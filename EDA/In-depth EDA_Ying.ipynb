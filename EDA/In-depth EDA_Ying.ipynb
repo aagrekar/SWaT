{
 "cells": [
  {
   "cell_type": "code",
   "execution_count": 1,
   "metadata": {
    "collapsed": true
   },
   "outputs": [],
   "source": [
    "import mysql.connector as sql\n",
    "import pandas as pd\n",
    "import numpy as np\n",
    "import datetime as dt\n",
    "import matplotlib.pyplot as plt\n",
    "%matplotlib inline\n",
    "\n",
    "db_connection = sql.connect(host='104.197.253.225', database='secdb', user='cs572', password='cs572')\n",
    "db_cursor = db_connection.cursor()\n",
    "\n",
    "query = 'SELECT * FROM all_physical'\n",
    "db_cursor.execute(query)\n",
    "table_rows = db_cursor.fetchall()\n",
    "df = pd.DataFrame(table_rows)\n",
    "data = pd.read_sql(query, db_connection)"
   ]
  },
  {
   "cell_type": "code",
   "execution_count": 2,
   "metadata": {
    "collapsed": true
   },
   "outputs": [],
   "source": [
    "for i in range(0, len(data)):\n",
    "    data.iloc[i]['Timestamp'] = dt.datetime.strptime(data.iloc[i]['Timestamp'],' %d/%m/%Y %I:%M:%S %p')"
   ]
  },
  {
   "cell_type": "code",
   "execution_count": 3,
   "metadata": {
    "collapsed": true
   },
   "outputs": [],
   "source": [
    "for i in range(0, len(data)):\n",
    "    data.iloc[i]['Timestamp'] = data.iloc[i]['Timestamp'].strftime('%Y-%m-%d %H:%M:%S')"
   ]
  },
  {
   "cell_type": "code",
   "execution_count": 4,
   "metadata": {
    "collapsed": true
   },
   "outputs": [],
   "source": [
    "data['Timestamp'] = pd.to_datetime(data['Timestamp'])"
   ]
  },
  {
   "cell_type": "code",
   "execution_count": 6,
   "metadata": {
    "collapsed": false
   },
   "outputs": [
    {
     "name": "stderr",
     "output_type": "stream",
     "text": [
      "/Users/yingwu/anaconda/lib/python3.5/site-packages/ipykernel/__main__.py:1: FutureWarning: sort(columns=....) is deprecated, use sort_values(by=.....)\n",
      "  if __name__ == '__main__':\n"
     ]
    }
   ],
   "source": [
    "data = data.sort('Timestamp')"
   ]
  },
  {
   "cell_type": "code",
   "execution_count": 13,
   "metadata": {
    "collapsed": false
   },
   "outputs": [
    {
     "data": {
      "text/html": [
       "<div>\n",
       "<table border=\"1\" class=\"dataframe\">\n",
       "  <thead>\n",
       "    <tr style=\"text-align: right;\">\n",
       "      <th></th>\n",
       "      <th>Timestamp</th>\n",
       "      <th>FIT101</th>\n",
       "      <th>LIT101</th>\n",
       "      <th>MV101</th>\n",
       "      <th>P101</th>\n",
       "      <th>P102</th>\n",
       "      <th>AIT201</th>\n",
       "      <th>AIT202</th>\n",
       "      <th>AIT203</th>\n",
       "      <th>FIT201</th>\n",
       "      <th>...</th>\n",
       "      <th>P501</th>\n",
       "      <th>P502</th>\n",
       "      <th>PIT501</th>\n",
       "      <th>PIT502</th>\n",
       "      <th>PIT503</th>\n",
       "      <th>FIT601</th>\n",
       "      <th>P601</th>\n",
       "      <th>P602</th>\n",
       "      <th>P603</th>\n",
       "      <th>EVENT</th>\n",
       "    </tr>\n",
       "  </thead>\n",
       "  <tbody>\n",
       "    <tr>\n",
       "      <th>449919</th>\n",
       "      <td>2015-12-22 16:00:00</td>\n",
       "      <td>2.470294</td>\n",
       "      <td>261.5804</td>\n",
       "      <td>2</td>\n",
       "      <td>2</td>\n",
       "      <td>1</td>\n",
       "      <td>244.3284</td>\n",
       "      <td>8.19008</td>\n",
       "      <td>306.101</td>\n",
       "      <td>2.471278</td>\n",
       "      <td>...</td>\n",
       "      <td>1</td>\n",
       "      <td>1</td>\n",
       "      <td>10.02948</td>\n",
       "      <td>0</td>\n",
       "      <td>4.277749</td>\n",
       "      <td>0.0002563035</td>\n",
       "      <td>1</td>\n",
       "      <td>1</td>\n",
       "      <td>1</td>\n",
       "      <td>Normal</td>\n",
       "    </tr>\n",
       "    <tr>\n",
       "      <th>449920</th>\n",
       "      <td>2015-12-22 16:00:01</td>\n",
       "      <td>2.457163</td>\n",
       "      <td>261.1879</td>\n",
       "      <td>2</td>\n",
       "      <td>2</td>\n",
       "      <td>1</td>\n",
       "      <td>244.3284</td>\n",
       "      <td>8.19008</td>\n",
       "      <td>306.101</td>\n",
       "      <td>2.468587</td>\n",
       "      <td>...</td>\n",
       "      <td>1</td>\n",
       "      <td>1</td>\n",
       "      <td>10.02948</td>\n",
       "      <td>0</td>\n",
       "      <td>4.277749</td>\n",
       "      <td>0.0002563035</td>\n",
       "      <td>1</td>\n",
       "      <td>1</td>\n",
       "      <td>1</td>\n",
       "      <td>Normal</td>\n",
       "    </tr>\n",
       "    <tr>\n",
       "      <th>449921</th>\n",
       "      <td>2015-12-22 16:00:02</td>\n",
       "      <td>2.439548</td>\n",
       "      <td>260.9131</td>\n",
       "      <td>2</td>\n",
       "      <td>2</td>\n",
       "      <td>1</td>\n",
       "      <td>244.3284</td>\n",
       "      <td>8.19008</td>\n",
       "      <td>306.101</td>\n",
       "      <td>2.467305</td>\n",
       "      <td>...</td>\n",
       "      <td>1</td>\n",
       "      <td>1</td>\n",
       "      <td>10.02948</td>\n",
       "      <td>0</td>\n",
       "      <td>4.277749</td>\n",
       "      <td>0.0002563035</td>\n",
       "      <td>1</td>\n",
       "      <td>1</td>\n",
       "      <td>1</td>\n",
       "      <td>Normal</td>\n",
       "    </tr>\n",
       "    <tr>\n",
       "      <th>449922</th>\n",
       "      <td>2015-12-22 16:00:03</td>\n",
       "      <td>2.428338</td>\n",
       "      <td>260.285</td>\n",
       "      <td>2</td>\n",
       "      <td>2</td>\n",
       "      <td>1</td>\n",
       "      <td>244.3284</td>\n",
       "      <td>8.19008</td>\n",
       "      <td>306.101</td>\n",
       "      <td>2.466536</td>\n",
       "      <td>...</td>\n",
       "      <td>1</td>\n",
       "      <td>1</td>\n",
       "      <td>10.02948</td>\n",
       "      <td>0</td>\n",
       "      <td>4.277749</td>\n",
       "      <td>0.0002563035</td>\n",
       "      <td>1</td>\n",
       "      <td>1</td>\n",
       "      <td>1</td>\n",
       "      <td>Normal</td>\n",
       "    </tr>\n",
       "    <tr>\n",
       "      <th>449923</th>\n",
       "      <td>2015-12-22 16:00:04</td>\n",
       "      <td>2.424815</td>\n",
       "      <td>259.8925</td>\n",
       "      <td>2</td>\n",
       "      <td>2</td>\n",
       "      <td>1</td>\n",
       "      <td>244.4245</td>\n",
       "      <td>8.19008</td>\n",
       "      <td>306.101</td>\n",
       "      <td>2.466536</td>\n",
       "      <td>...</td>\n",
       "      <td>1</td>\n",
       "      <td>1</td>\n",
       "      <td>10.02948</td>\n",
       "      <td>0</td>\n",
       "      <td>4.277749</td>\n",
       "      <td>0.0002563035</td>\n",
       "      <td>1</td>\n",
       "      <td>1</td>\n",
       "      <td>1</td>\n",
       "      <td>Normal</td>\n",
       "    </tr>\n",
       "  </tbody>\n",
       "</table>\n",
       "<p>5 rows × 53 columns</p>\n",
       "</div>"
      ],
      "text/plain": [
       "                 Timestamp    FIT101    LIT101 MV101 P101 P102    AIT201  \\\n",
       "449919 2015-12-22 16:00:00  2.470294  261.5804     2    2    1  244.3284   \n",
       "449920 2015-12-22 16:00:01  2.457163  261.1879     2    2    1  244.3284   \n",
       "449921 2015-12-22 16:00:02  2.439548  260.9131     2    2    1  244.3284   \n",
       "449922 2015-12-22 16:00:03  2.428338   260.285     2    2    1  244.3284   \n",
       "449923 2015-12-22 16:00:04  2.424815  259.8925     2    2    1  244.4245   \n",
       "\n",
       "         AIT202   AIT203    FIT201   ...   P501 P502    PIT501 PIT502  \\\n",
       "449919  8.19008  306.101  2.471278   ...      1    1  10.02948      0   \n",
       "449920  8.19008  306.101  2.468587   ...      1    1  10.02948      0   \n",
       "449921  8.19008  306.101  2.467305   ...      1    1  10.02948      0   \n",
       "449922  8.19008  306.101  2.466536   ...      1    1  10.02948      0   \n",
       "449923  8.19008  306.101  2.466536   ...      1    1  10.02948      0   \n",
       "\n",
       "          PIT503        FIT601 P601 P602 P603   EVENT  \n",
       "449919  4.277749  0.0002563035    1    1    1  Normal  \n",
       "449920  4.277749  0.0002563035    1    1    1  Normal  \n",
       "449921  4.277749  0.0002563035    1    1    1  Normal  \n",
       "449922  4.277749  0.0002563035    1    1    1  Normal  \n",
       "449923  4.277749  0.0002563035    1    1    1  Normal  \n",
       "\n",
       "[5 rows x 53 columns]"
      ]
     },
     "execution_count": 13,
     "metadata": {},
     "output_type": "execute_result"
    }
   ],
   "source": [
    "data.head()"
   ]
  },
  {
   "cell_type": "code",
   "execution_count": 19,
   "metadata": {
    "collapsed": false
   },
   "outputs": [],
   "source": [
    "data.ix[:, 'FIT101':'P603'] = data.ix[:, 'FIT101':'P603'].astype(float)"
   ]
  },
  {
   "cell_type": "markdown",
   "metadata": {},
   "source": [
    "# Compare means of continous features during normal vs. attacks"
   ]
  },
  {
   "cell_type": "code",
   "execution_count": 50,
   "metadata": {
    "collapsed": true
   },
   "outputs": [],
   "source": [
    "continuous_features_group1 = ['FIT101','AIT202','FIT201',\n",
    "                       'DPIT301','FIT301','FIT401',\n",
    "                      'AIT501','AIT504','FIT501','FIT502','FIT503','FIT504',\n",
    "                      'PIT502','FIT601']"
   ]
  },
  {
   "cell_type": "code",
   "execution_count": 51,
   "metadata": {
    "collapsed": true
   },
   "outputs": [],
   "source": [
    "continuous_features_group2 = ['LIT101','AIT201','AIT203','LIT301','AIT401','AIT402','LIT401',\n",
    "                      'AIT502','AIT503',\n",
    "                      'PIT501','PIT503']"
   ]
  },
  {
   "cell_type": "code",
   "execution_count": 31,
   "metadata": {
    "collapsed": false
   },
   "outputs": [
    {
     "name": "stdout",
     "output_type": "stream",
     "text": [
      "1.8443608147166486\n",
      "0.764648407621463\n"
     ]
    }
   ],
   "source": [
    "data['EVENT'] = data['EVENT'].str.replace('A ttack', 'Attack')\n",
    "normal = data[data['EVENT'] == 'Normal']\n",
    "attack = data[data['EVENT'] == 'Attack']\n",
    "print(np.mean(normal['FIT101']))\n",
    "print(np.mean(attack['FIT101']))"
   ]
  },
  {
   "cell_type": "code",
   "execution_count": null,
   "metadata": {
    "collapsed": true
   },
   "outputs": [],
   "source": []
  },
  {
   "cell_type": "code",
   "execution_count": 52,
   "metadata": {
    "collapsed": false
   },
   "outputs": [
    {
     "data": {
      "image/png": "[encoded data removed]",
      "text/plain": [
       "<matplotlib.figure.Figure at 0x308e17668>"
      ]
     },
     "metadata": {},
     "output_type": "display_data"
    }
   ],
   "source": [
    "# data to plot\n",
    "n_groups = len(continuous_features_group1)\n",
    "means_normal = ()\n",
    "for i in continuous_features_group1:\n",
    "    means_normal = means_normal + (np.mean(normal[i]),)\n",
    "means_attack = ()\n",
    "for i in continuous_features_group1:\n",
    "    means_attack = means_attack + (np.mean(attack[i]),)\n",
    " \n",
    "# create plot\n",
    "fig, ax = plt.subplots()\n",
    "index = np.arange(n_groups)\n",
    "bar_width = 0.35\n",
    "opacity = 0.8\n",
    " \n",
    "rects1 = plt.bar(index, means_normal, bar_width,\n",
    "                 alpha=opacity,\n",
    "                 color='b',\n",
    "                 label='Normal')\n",
    " \n",
    "rects2 = plt.bar(index + bar_width, means_attack, bar_width,\n",
    "                 alpha=opacity,\n",
    "                 color='g',\n",
    "                 label='Attack')\n",
    " \n",
    "plt.xlabel('Features')\n",
    "plt.ylabel('Means')\n",
    "plt.title('Means by feature')\n",
    "plt.xticks(index + bar_width, ('FIT101','AIT202','FIT201',\n",
    "                       'DPIT301','FIT301','FIT401',\n",
    "                      'AIT501','AIT504','FIT501','FIT502','FIT503','FIT504',\n",
    "                      'PIT502','FIT601'), rotation=70)\n",
    "plt.legend()\n",
    " \n",
    "plt.tight_layout()\n",
    "plt.show()\n"
   ]
  },
  {
   "cell_type": "code",
   "execution_count": 53,
   "metadata": {
    "collapsed": false
   },
   "outputs": [
    {
     "data": {
      "image/png": "[encoded data removed]",
      "text/plain": [
       "<matplotlib.figure.Figure at 0x308e17208>"
      ]
     },
     "metadata": {},
     "output_type": "display_data"
    }
   ],
   "source": [
    "# data to plot\n",
    "n_groups = len(continuous_features_group2)\n",
    "means_normal = ()\n",
    "for i in continuous_features_group2:\n",
    "    means_normal = means_normal + (np.mean(normal[i]),)\n",
    "means_attack = ()\n",
    "for i in continuous_features_group2:\n",
    "    means_attack = means_attack + (np.mean(attack[i]),)\n",
    " \n",
    "# create plot\n",
    "fig, ax = plt.subplots()\n",
    "index = np.arange(n_groups)\n",
    "bar_width = 0.35\n",
    "opacity = 0.8\n",
    " \n",
    "rects1 = plt.bar(index, means_normal, bar_width,\n",
    "                 alpha=opacity,\n",
    "                 color='b',\n",
    "                 label='Normal')\n",
    " \n",
    "rects2 = plt.bar(index + bar_width, means_attack, bar_width,\n",
    "                 alpha=opacity,\n",
    "                 color='g',\n",
    "                 label='Attack')\n",
    " \n",
    "plt.xlabel('Features')\n",
    "plt.ylabel('Means')\n",
    "plt.title('Means by feature')\n",
    "plt.xticks(index + bar_width, ('LIT101','AIT201','AIT203','LIT301','AIT401','AIT402','LIT401',\n",
    "                      'AIT502','AIT503',\n",
    "                      'PIT501','PIT503'), rotation=70)\n",
    "plt.legend()\n",
    " \n",
    "plt.tight_layout()\n",
    "plt.show()\n",
    "\n",
    "# Among all the continuous features, \n",
    "# the mean values of FIT101, FIT201, DPIT301, FIT301, FIT401, LIT401, FIT501, FIT502, FIT503, FIT504, PIT501, PIT502, PIT503\n",
    "# during normal and attack timestamps have bigger differences."
   ]
  },
  {
   "cell_type": "code",
   "execution_count": null,
   "metadata": {
    "collapsed": true
   },
   "outputs": [],
   "source": []
  }
 ],
 "metadata": {
  "anaconda-cloud": {},
  "kernelspec": {
   "display_name": "Python [default]",
   "language": "python",
   "name": "python3"
  },
  "language_info": {
   "codemirror_mode": {
    "name": "ipython",
    "version": 3
   },
   "file_extension": ".py",
   "mimetype": "text/x-python",
   "name": "python",
   "nbconvert_exporter": "python",
   "pygments_lexer": "ipython3",
   "version": "3.5.2"
  }
 },
 "nbformat": 4,
 "nbformat_minor": 1
}
