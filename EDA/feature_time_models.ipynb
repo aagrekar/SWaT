{
 "cells": [
  {
   "cell_type": "code",
   "execution_count": 33,
   "metadata": {},
   "outputs": [
    {
     "name": "stdout",
     "output_type": "stream",
     "text": [
      "Opening /home/raz/store.h5 in read-only mode\n",
      "52 Continuous Features \n",
      " ['Timestamp', 'FIT101', 'LIT101', 'MV101', 'P101', 'P102', 'AIT201', 'AIT202', 'AIT203', 'FIT201', 'MV201', 'P201', 'P202', 'P203', 'P204', 'P205', 'P206', 'DPIT301', 'FIT301', 'LIT301', 'MV301', 'MV302', 'MV303', 'MV304', 'P301', 'P302', 'AIT401', 'AIT402', 'FIT401', 'LIT401', 'P401', 'P402', 'P403', 'P404', 'UV401', 'AIT501', 'AIT502', 'AIT503', 'AIT504', 'FIT501', 'FIT502', 'FIT503', 'FIT504', 'P501', 'P502', 'PIT501', 'PIT502', 'PIT503', 'FIT601', 'P601', 'P602', 'P603']\n",
      "\n",
      " \n",
      "\n",
      "1 Categorical features \n",
      "\n",
      "\n",
      " ['EVENT']\n",
      "\n",
      " \n",
      "\n",
      "51 Upadated List of Continuous Features \n",
      " ['FIT101', 'LIT101', 'MV101', 'P101', 'P102', 'AIT201', 'AIT202', 'AIT203', 'FIT201', 'MV201', 'P201', 'P202', 'P203', 'P204', 'P205', 'P206', 'DPIT301', 'FIT301', 'LIT301', 'MV301', 'MV302', 'MV303', 'MV304', 'P301', 'P302', 'AIT401', 'AIT402', 'FIT401', 'LIT401', 'P401', 'P402', 'P403', 'P404', 'UV401', 'AIT501', 'AIT502', 'AIT503', 'AIT504', 'FIT501', 'FIT502', 'FIT503', 'FIT504', 'P501', 'P502', 'PIT501', 'PIT502', 'PIT503', 'FIT601', 'P601', 'P602', 'P603']\n",
      "\n",
      " \n",
      "\n"
     ]
    }
   ],
   "source": [
    "from pandas import HDFStore,DataFrame\n",
    "import pandas as pd\n",
    "store = HDFStore('/home/raz/store.h5')\n",
    "\n",
    "pdata = pd.read_hdf(store)\n",
    "pdata = pdata.sort_values('Timestamp')\n",
    "\n",
    "catFeatures = []\n",
    "NumFeatures = []\n",
    "for col,x in pdata.iloc[1,:].iteritems():\n",
    "    if(not str(x).isalpha()):\n",
    "        NumFeatures.append(col)\n",
    "    else:\n",
    "        catFeatures.append(col)\n",
    "print(len(NumFeatures), \"Continuous Features \\n\", NumFeatures)\n",
    "print(\"\\n \\n\")\n",
    "print(len(catFeatures), \"Categorical features \\n\\n\\n\", catFeatures)\n",
    "\n",
    "\n",
    "NumFeatures.remove(\"Timestamp\")\n",
    "print(\"\\n \\n\")\n",
    "\n",
    "print(len(NumFeatures), \"Upadated List of Continuous Features \\n\", NumFeatures)\n",
    "print(\"\\n \\n\")"
   ]
  },
  {
   "cell_type": "code",
   "execution_count": 34,
   "metadata": {
    "collapsed": true
   },
   "outputs": [],
   "source": [
    "pdata['hod'] = pdata['Timestamp'].dt.hour"
   ]
  },
  {
   "cell_type": "code",
   "execution_count": 35,
   "metadata": {
    "collapsed": true
   },
   "outputs": [],
   "source": [
    "import numpy as np \n",
    "import matplotlib.pyplot as plt\n",
    "import seaborn as sns\n",
    "color = sns.color_palette()\n",
    "%matplotlib inline\n",
    "pd.options.mode.chained_assignment = None"
   ]
  },
  {
   "cell_type": "code",
   "execution_count": 36,
   "metadata": {
    "collapsed": true
   },
   "outputs": [],
   "source": [
    "bool_cols = [col for col in pdata \n",
    "             if pdata[[col]].dropna().isin([0, 1]).all().values]"
   ]
  },
  {
   "cell_type": "code",
   "execution_count": 37,
   "metadata": {},
   "outputs": [
    {
     "data": {
      "text/html": [
       "<div>\n",
       "<style>\n",
       "    .dataframe thead tr:only-child th {\n",
       "        text-align: right;\n",
       "    }\n",
       "\n",
       "    .dataframe thead th {\n",
       "        text-align: left;\n",
       "    }\n",
       "\n",
       "    .dataframe tbody tr th {\n",
       "        vertical-align: top;\n",
       "    }\n",
       "</style>\n",
       "<table border=\"1\" class=\"dataframe\">\n",
       "  <thead>\n",
       "    <tr style=\"text-align: right;\">\n",
       "      <th></th>\n",
       "      <th>P202</th>\n",
       "      <th>P401</th>\n",
       "      <th>P404</th>\n",
       "      <th>P502</th>\n",
       "      <th>P601</th>\n",
       "      <th>P603</th>\n",
       "    </tr>\n",
       "  </thead>\n",
       "  <tbody>\n",
       "    <tr>\n",
       "      <th>count</th>\n",
       "      <td>946719.0</td>\n",
       "      <td>946719.0</td>\n",
       "      <td>946719.0</td>\n",
       "      <td>946719.0</td>\n",
       "      <td>946719.0</td>\n",
       "      <td>946719.0</td>\n",
       "    </tr>\n",
       "    <tr>\n",
       "      <th>mean</th>\n",
       "      <td>1.0</td>\n",
       "      <td>1.0</td>\n",
       "      <td>1.0</td>\n",
       "      <td>1.0</td>\n",
       "      <td>1.0</td>\n",
       "      <td>1.0</td>\n",
       "    </tr>\n",
       "    <tr>\n",
       "      <th>std</th>\n",
       "      <td>0.0</td>\n",
       "      <td>0.0</td>\n",
       "      <td>0.0</td>\n",
       "      <td>0.0</td>\n",
       "      <td>0.0</td>\n",
       "      <td>0.0</td>\n",
       "    </tr>\n",
       "    <tr>\n",
       "      <th>min</th>\n",
       "      <td>1.0</td>\n",
       "      <td>1.0</td>\n",
       "      <td>1.0</td>\n",
       "      <td>1.0</td>\n",
       "      <td>1.0</td>\n",
       "      <td>1.0</td>\n",
       "    </tr>\n",
       "    <tr>\n",
       "      <th>25%</th>\n",
       "      <td>1.0</td>\n",
       "      <td>1.0</td>\n",
       "      <td>1.0</td>\n",
       "      <td>1.0</td>\n",
       "      <td>1.0</td>\n",
       "      <td>1.0</td>\n",
       "    </tr>\n",
       "    <tr>\n",
       "      <th>50%</th>\n",
       "      <td>1.0</td>\n",
       "      <td>1.0</td>\n",
       "      <td>1.0</td>\n",
       "      <td>1.0</td>\n",
       "      <td>1.0</td>\n",
       "      <td>1.0</td>\n",
       "    </tr>\n",
       "    <tr>\n",
       "      <th>75%</th>\n",
       "      <td>1.0</td>\n",
       "      <td>1.0</td>\n",
       "      <td>1.0</td>\n",
       "      <td>1.0</td>\n",
       "      <td>1.0</td>\n",
       "      <td>1.0</td>\n",
       "    </tr>\n",
       "    <tr>\n",
       "      <th>max</th>\n",
       "      <td>1.0</td>\n",
       "      <td>1.0</td>\n",
       "      <td>1.0</td>\n",
       "      <td>1.0</td>\n",
       "      <td>1.0</td>\n",
       "      <td>1.0</td>\n",
       "    </tr>\n",
       "  </tbody>\n",
       "</table>\n",
       "</div>"
      ],
      "text/plain": [
       "           P202      P401      P404      P502      P601      P603\n",
       "count  946719.0  946719.0  946719.0  946719.0  946719.0  946719.0\n",
       "mean        1.0       1.0       1.0       1.0       1.0       1.0\n",
       "std         0.0       0.0       0.0       0.0       0.0       0.0\n",
       "min         1.0       1.0       1.0       1.0       1.0       1.0\n",
       "25%         1.0       1.0       1.0       1.0       1.0       1.0\n",
       "50%         1.0       1.0       1.0       1.0       1.0       1.0\n",
       "75%         1.0       1.0       1.0       1.0       1.0       1.0\n",
       "max         1.0       1.0       1.0       1.0       1.0       1.0"
      ]
     },
     "execution_count": 37,
     "metadata": {},
     "output_type": "execute_result"
    }
   ],
   "source": [
    "pdata[bool_cols].describe()"
   ]
  },
  {
   "cell_type": "code",
   "execution_count": 38,
   "metadata": {
    "collapsed": true
   },
   "outputs": [],
   "source": [
    "pdata.drop(bool_cols, axis = 1, inplace = True)\n",
    "catFeatures = []\n",
    "NumFeatures = []\n",
    "for col,x in pdata.iloc[1,:].iteritems():\n",
    "    if(not str(x).isalpha()):\n",
    "        NumFeatures.append(col)\n",
    "    else:\n",
    "        catFeatures.append(col)"
   ]
  },
  {
   "cell_type": "code",
   "execution_count": 39,
   "metadata": {},
   "outputs": [
    {
     "name": "stdout",
     "output_type": "stream",
     "text": [
      "P101\n",
      "P102\n",
      "P201\n",
      "P203\n",
      "P204\n",
      "P205\n",
      "P206\n",
      "P301\n",
      "P302\n",
      "P402\n",
      "P403\n",
      "UV401\n",
      "P501\n",
      "P602\n"
     ]
    }
   ],
   "source": [
    "catFeatures = []\n",
    "for col in pdata[NumFeatures]:\n",
    "    if(pdata[[col]].dropna().isin([1, 2]).all().values):\n",
    "        print(col)\n",
    "        catFeatures.append(col)\n",
    "        pdata[col] = pdata[col].astype('category')"
   ]
  },
  {
   "cell_type": "code",
   "execution_count": 40,
   "metadata": {},
   "outputs": [
    {
     "data": {
      "text/plain": [
       "53"
      ]
     },
     "execution_count": 40,
     "metadata": {},
     "output_type": "execute_result"
    }
   ],
   "source": [
    "NumFeatures = [x for x in NumFeatures if x not in catFeatures ]\n",
    "len(NumFeatures) + len(catFeatures) + len(bool_cols)"
   ]
  },
  {
   "cell_type": "code",
   "execution_count": 41,
   "metadata": {
    "collapsed": true
   },
   "outputs": [],
   "source": [
    "X_cat = pd.get_dummies(pdata , columns=catFeatures[1:])"
   ]
  },
  {
   "cell_type": "code",
   "execution_count": 42,
   "metadata": {},
   "outputs": [
    {
     "data": {
      "text/plain": [
       "Index(['Timestamp', 'FIT101', 'LIT101', 'MV101', 'P101', 'AIT201', 'AIT202',\n",
       "       'AIT203', 'FIT201', 'MV201', 'DPIT301', 'FIT301', 'LIT301', 'MV301',\n",
       "       'MV302', 'MV303', 'MV304', 'AIT401', 'AIT402', 'FIT401', 'LIT401',\n",
       "       'AIT501', 'AIT502', 'AIT503', 'AIT504', 'FIT501', 'FIT502', 'FIT503',\n",
       "       'FIT504', 'PIT501', 'PIT502', 'PIT503', 'FIT601', 'EVENT', 'hod',\n",
       "       'P102_1', 'P102_2', 'P201_1', 'P201_2', 'P203_1', 'P203_2', 'P204_1',\n",
       "       'P204_2', 'P205_1', 'P205_2', 'P206_1', 'P206_2', 'P301_1', 'P301_2',\n",
       "       'P302_1', 'P302_2', 'P402_1', 'P402_2', 'P403_1', 'P403_2', 'UV401_1',\n",
       "       'UV401_2', 'P501_1', 'P501_2', 'P602_1', 'P602_2'],\n",
       "      dtype='object')"
      ]
     },
     "execution_count": 42,
     "metadata": {},
     "output_type": "execute_result"
    }
   ],
   "source": [
    "X_cat.columns"
   ]
  },
  {
   "cell_type": "code",
   "execution_count": 43,
   "metadata": {
    "collapsed": true
   },
   "outputs": [],
   "source": [
    "dummies = ['P102_1', 'P102_2', 'P201_1', 'P201_2', 'P203_1', 'P203_2', 'P204_1',\n",
    "'P204_2', 'P205_1', 'P205_2', 'P206_1', 'P206_2', 'P301_1', 'P301_2', 'P302_1', 'P302_2', 'P402_1', 'P402_2', 'P403_1', 'P403_2', 'UV401_1',\n",
    "'UV401_2', 'P501_1', 'P501_2', 'P602_1', 'P602_2']"
   ]
  },
  {
   "cell_type": "code",
   "execution_count": 61,
   "metadata": {
    "collapsed": true
   },
   "outputs": [],
   "source": [
    "y = pdata['EVENT'] == 'Attack'"
   ]
  },
  {
   "cell_type": "code",
   "execution_count": 48,
   "metadata": {},
   "outputs": [
    {
     "data": {
      "text/plain": [
       "449919    16\n",
       "449920    16\n",
       "449921    16\n",
       "449922    16\n",
       "449923    16\n",
       "449924    16\n",
       "449925    16\n",
       "449926    16\n",
       "449927    16\n",
       "449928    16\n",
       "449929    16\n",
       "449930    16\n",
       "449931    16\n",
       "449932    16\n",
       "449933    16\n",
       "449934    16\n",
       "449935    16\n",
       "449936    16\n",
       "449937    16\n",
       "449938    16\n",
       "449939    16\n",
       "449940    16\n",
       "449941    16\n",
       "449942    16\n",
       "449943    16\n",
       "449944    16\n",
       "449945    16\n",
       "449946    16\n",
       "449947    16\n",
       "449948    16\n",
       "          ..\n",
       "449889    14\n",
       "449890    14\n",
       "449891    14\n",
       "449892    14\n",
       "449893    14\n",
       "449894    14\n",
       "449895    14\n",
       "449896    14\n",
       "449897    14\n",
       "449898    14\n",
       "449899    14\n",
       "449900    14\n",
       "449901    14\n",
       "449902    14\n",
       "449903    14\n",
       "449904    14\n",
       "449905    14\n",
       "449906    14\n",
       "449907    14\n",
       "449908    14\n",
       "449909    14\n",
       "449910    14\n",
       "449911    14\n",
       "449912    14\n",
       "449913    14\n",
       "449914    14\n",
       "449915    14\n",
       "449916    14\n",
       "449917    14\n",
       "449918    14\n",
       "Name: hod, Length: 946719, dtype: int64"
      ]
     },
     "execution_count": 48,
     "metadata": {},
     "output_type": "execute_result"
    }
   ],
   "source": [
    "X.hod"
   ]
  },
  {
   "cell_type": "code",
   "execution_count": 187,
   "metadata": {
    "collapsed": true
   },
   "outputs": [],
   "source": [
    "from time import time\n",
    "from sklearn.model_selection import train_test_split\n",
    "\n",
    "X = X_cat[NumFeatures[1:] + dummies]\n",
    "#X_train, X_test, y_train, y_test = train_test_split(X, y, random_state=42, stratify=y, test_size=0.25)\n",
    "X_train, X_test, y_train, y_test = train_test_split(X, y, random_state=42, stratify=y, test_size=0.25)"
   ]
  },
  {
   "cell_type": "code",
   "execution_count": 188,
   "metadata": {},
   "outputs": [
    {
     "data": {
      "text/plain": [
       "58"
      ]
     },
     "execution_count": 188,
     "metadata": {},
     "output_type": "execute_result"
    }
   ],
   "source": [
    "len(X_test.columns)"
   ]
  },
  {
   "cell_type": "code",
   "execution_count": 152,
   "metadata": {},
   "outputs": [
    {
     "name": "stdout",
     "output_type": "stream",
     "text": [
      "CPU times: user 45min 35s, sys: 7 s, total: 45min 42s\n",
      "Wall time: 11min 32s\n"
     ]
    }
   ],
   "source": [
    "%%time\n",
    "from sklearn.metrics import mean_absolute_error\n",
    "from sklearn.metrics import make_scorer\n",
    "from sklearn.model_selection import GridSearchCV\n",
    "\n",
    "def get_model(estimator, parameters, X_train, y_train, scoring):  \n",
    "    model = GridSearchCV(estimator, param_grid=parameters, scoring=scoring)\n",
    "    model.fit(X_train, y_train)\n",
    "    return model.best_estimator_\n",
    "\n",
    "from sklearn.model_selection import learning_curve\n",
    "scoring = make_scorer(mean_absolute_error, greater_is_better=False)\n",
    "\n",
    "import warnings\n",
    "warnings.filterwarnings(\"ignore\", category=DeprecationWarning) \n",
    "import xgboost as XGB\n",
    "xgb = XGB.XGBClassifier(seed=42, max_depth=3, objective='binary:logistic', n_estimators=400)\n",
    "parameters = {'learning_rate':[0.1], 'reg_alpha':[3.0], 'reg_lambda': [4.0]}\n",
    "clf_xgb1 = get_model(xgb, parameters, X_train, y_train, scoring)"
   ]
  },
  {
   "cell_type": "code",
   "execution_count": 153,
   "metadata": {},
   "outputs": [
    {
     "name": "stdout",
     "output_type": "stream",
     "text": [
      "[[223148     57]\n",
      " [   274  13201]]\n",
      "             precision    recall  f1-score   support\n",
      "\n",
      "      False       1.00      1.00      1.00    223205\n",
      "       True       1.00      0.98      0.99     13475\n",
      "\n",
      "avg / total       1.00      1.00      1.00    236680\n",
      "\n",
      "0.99860148724\n"
     ]
    }
   ],
   "source": [
    "from sklearn.metrics import classification_report\n",
    "from sklearn.metrics import accuracy_score\n",
    "from sklearn.metrics import confusion_matrix\n",
    "\n",
    "\n",
    "print (confusion_matrix(y_test, clf_xgb1.predict(X_test)))\n",
    "print (classification_report(y_test, clf_xgb1.predict(X_test)))\n",
    "print (accuracy_score(y_test, clf_xgb1.predict(X_test)))"
   ]
  },
  {
   "cell_type": "code",
   "execution_count": 154,
   "metadata": {},
   "outputs": [
    {
     "name": "stderr",
     "output_type": "stream",
     "text": [
      "/home/ubuntu/anaconda3/lib/python3.6/site-packages/matplotlib/font_manager.py:1297: UserWarning: findfont: Font family ['sans-serif'] not found. Falling back to DejaVu Sans\n",
      "  (prop.get_family(), self.defaultFamily[fontext]))\n"
     ]
    },
    {
     "data": {
      "image/png": "[encoded data removed]",
      "text/plain": [
       "<matplotlib.figure.Figure at 0x7febc2eb02e8>"
      ]
     },
     "metadata": {},
     "output_type": "display_data"
    }
   ],
   "source": [
    "from xgboost import plot_importance\n",
    "fig, ax = plt.subplots(figsize=(12,18))\n",
    "plot_importance(clf_xgb1, height=0.8, ax=ax)\n",
    "plt.show()"
   ]
  },
  {
   "cell_type": "code",
   "execution_count": null,
   "metadata": {
    "collapsed": true
   },
   "outputs": [],
   "source": [
    "y = pdata['EVENT'] == 'Attack'"
   ]
  },
  {
   "cell_type": "code",
   "execution_count": 63,
   "metadata": {},
   "outputs": [
    {
     "name": "stdout",
     "output_type": "stream",
     "text": [
      "GaussianNB(priors=None)\n",
      "             precision    recall  f1-score   support\n",
      "\n",
      "      False       0.98      1.00      0.99    223205\n",
      "       True       0.99      0.71      0.83     13475\n",
      "\n",
      "avg / total       0.98      0.98      0.98    236680\n",
      "\n",
      "[[223079    126]\n",
      " [  3906   9569]]\n",
      "CPU times: user 1.91 s, sys: 528 ms, total: 2.44 s\n",
      "Wall time: 2.43 s\n"
     ]
    }
   ],
   "source": [
    "%%time\n",
    "from sklearn.naive_bayes import GaussianNB\n",
    "from sklearn import metrics\n",
    "clf = GaussianNB()\n",
    "clf.fit(X_train, y_train)\n",
    "\n",
    "print(clf)\n",
    "# make predictions\n",
    "y_p = clf.predict(X_test)\n",
    "# summarize the fit of the model\n",
    "print(metrics.classification_report(y_test, y_p))\n",
    "print(metrics.confusion_matrix(y_test, y_p))"
   ]
  },
  {
   "cell_type": "markdown",
   "metadata": {},
   "source": [
    "# Naive Bayes on entire data with stratification on 'hod'"
   ]
  },
  {
   "cell_type": "code",
   "execution_count": 59,
   "metadata": {
    "collapsed": true
   },
   "outputs": [],
   "source": [
    "from time import time\n",
    "from sklearn.model_selection import train_test_split\n",
    "\n",
    "X = X_cat[NumFeatures[1:] + dummies]\n",
    "#X_train, X_test, y_train, y_test = train_test_split(X, y, random_state=42, stratify=y, test_size=0.25)\n",
    "X_train1, X_test1, y_train1, y_test1 = train_test_split(X, y, random_state=42, stratify=X['hod'], test_size=0.25)"
   ]
  },
  {
   "cell_type": "code",
   "execution_count": 60,
   "metadata": {},
   "outputs": [
    {
     "name": "stdout",
     "output_type": "stream",
     "text": [
      "GaussianNB(priors=None)\n",
      "             precision    recall  f1-score   support\n",
      "\n",
      "      False       0.98      1.00      0.99    223264\n",
      "       True       0.99      0.71      0.83     13416\n",
      "\n",
      "avg / total       0.98      0.98      0.98    236680\n",
      "\n",
      "[[223145    119]\n",
      " [  3869   9547]]\n",
      "CPU times: user 1.71 s, sys: 468 ms, total: 2.18 s\n",
      "Wall time: 2.18 s\n"
     ]
    }
   ],
   "source": [
    "%%time\n",
    "from sklearn.naive_bayes import GaussianNB\n",
    "from sklearn import metrics\n",
    "clf = GaussianNB()\n",
    "clf.fit(X_train1, y_train1)\n",
    "\n",
    "print(clf)\n",
    "# make predictions\n",
    "y_p1 = clf.predict(X_test1)\n",
    "# summarize the fit of the model\n",
    "print(metrics.classification_report(y_test1, y_p1))\n",
    "print(metrics.confusion_matrix(y_test1, y_p1))"
   ]
  },
  {
   "cell_type": "markdown",
   "metadata": {},
   "source": [
    "# Splitting Dataframe based on 'hod' and then stratifying on 'EVENT'"
   ]
  },
  {
   "cell_type": "code",
   "execution_count": 204,
   "metadata": {},
   "outputs": [],
   "source": [
    "compData = X\n",
    "compData['EVENT'] = pdata['EVENT'] == 'Attack'"
   ]
  },
  {
   "cell_type": "code",
   "execution_count": 206,
   "metadata": {},
   "outputs": [
    {
     "data": {
      "text/plain": [
       "309519    False\n",
       "396695    False\n",
       "396694    False\n",
       "396693    False\n",
       "396692    False\n",
       "396691    False\n",
       "396690    False\n",
       "396689    False\n",
       "396688    False\n",
       "396687    False\n",
       "396686    False\n",
       "396685    False\n",
       "396684    False\n",
       "396683    False\n",
       "396682    False\n",
       "396681    False\n",
       "396696    False\n",
       "396680    False\n",
       "396719    False\n",
       "396721    False\n",
       "396757    False\n",
       "396756    False\n",
       "396755    False\n",
       "396754    False\n",
       "396753    False\n",
       "396752    False\n",
       "396751    False\n",
       "396750    False\n",
       "396749    False\n",
       "396748    False\n",
       "          ...  \n",
       "563977    False\n",
       "563976    False\n",
       "563975    False\n",
       "563974    False\n",
       "563973    False\n",
       "563972    False\n",
       "563971    False\n",
       "563970    False\n",
       "564062    False\n",
       "564049    False\n",
       "564050    False\n",
       "564051    False\n",
       "564067    False\n",
       "564066    False\n",
       "564065    False\n",
       "564064    False\n",
       "564017    False\n",
       "564063    False\n",
       "564061    False\n",
       "564069    False\n",
       "564060    False\n",
       "564058    False\n",
       "564057    False\n",
       "564056    False\n",
       "564055    False\n",
       "564054    False\n",
       "564053    False\n",
       "564052    False\n",
       "564059    False\n",
       "50398     False\n",
       "Name: EVENT, Length: 946719, dtype: bool"
      ]
     },
     "execution_count": 206,
     "metadata": {},
     "output_type": "execute_result"
    }
   ],
   "source": [
    "compData.EVENT"
   ]
  },
  {
   "cell_type": "code",
   "execution_count": 207,
   "metadata": {
    "collapsed": true
   },
   "outputs": [],
   "source": [
    "compData.sort_values(['hod'], inplace=True)"
   ]
  },
  {
   "cell_type": "code",
   "execution_count": 208,
   "metadata": {
    "collapsed": true
   },
   "outputs": [],
   "source": [
    "data0to4 = compData[compData.hod < 5]\n",
    "data4to8 = compData[(compData.hod >4) & (compData.hod < 9)]\n",
    "data8to12 = compData[(compData.hod >8) & (compData.hod < 13)]\n",
    "data12t016 = compData[(compData.hod >12) & (compData.hod < 17)]\n",
    "data16to20 = compData[(compData.hod >16) & (compData.hod < 21)]\n",
    "data20to24 = compData[compData.hod >20]"
   ]
  },
  {
   "cell_type": "code",
   "execution_count": 209,
   "metadata": {},
   "outputs": [
    {
     "name": "stdout",
     "output_type": "stream",
     "text": [
      "198000\n",
      "158400\n",
      "158400\n",
      "154800\n",
      "158400\n",
      "118719\n",
      "946719\n",
      "946719\n"
     ]
    }
   ],
   "source": [
    "print(len(data0to4))\n",
    "print(len(data4to8))\n",
    "print(len(data8to12))\n",
    "print(len(data12t016))\n",
    "print(len(data16to20))\n",
    "print(len(data20to24))\n",
    "print(len(data0to4)+len(data4to8)+len(data8to12)+len(data12t016)+len(data16to20)+len(data20to24))\n",
    "print(len(compData))"
   ]
  },
  {
   "cell_type": "code",
   "execution_count": 210,
   "metadata": {},
   "outputs": [],
   "source": [
    "from time import time\n",
    "from sklearn.model_selection import train_test_split\n",
    "\n",
    "datatrain1, datatest1, ytrain1, ytest1 = train_test_split(data0to4.drop(['EVENT'],axis =1),data0to4['EVENT'], random_state=42, stratify=data0to4['EVENT'], test_size=0.25)\n",
    "datatrain2, datatest2, ytrain2, ytest2 = train_test_split(data4to8.drop(['EVENT'],axis =1), data4to8['EVENT'], random_state=42, stratify=data4to8['EVENT'], test_size=0.25)\n",
    "datatrain3, datatest3, ytrain3, ytest3 = train_test_split(data8to12.drop(['EVENT'],axis =1), data8to12['EVENT'], random_state=42, stratify=data8to12['EVENT'], test_size=0.25)\n",
    "datatrain4, datatest4, ytrain4, ytest4 = train_test_split(data12t016.drop(['EVENT'],axis =1), data12t016['EVENT'], random_state=42, stratify=data12t016['EVENT'], test_size=0.25)\n",
    "datatrain5, datatest5, ytrain5, ytest5 = train_test_split(data16to20.drop(['EVENT'],axis =1), data16to20['EVENT'], random_state=42, stratify=data16to20['EVENT'], test_size=0.25)\n",
    "datatrain6, datatest6, ytrain6, ytest6 = train_test_split(data20to24.drop(['EVENT'],axis =1), data20to24['EVENT'], random_state=42, stratify=data20to24['EVENT'], test_size=0.25)\n"
   ]
  },
  {
   "cell_type": "markdown",
   "metadata": {},
   "source": [
    "# Naive Bayes"
   ]
  },
  {
   "cell_type": "code",
   "execution_count": 211,
   "metadata": {},
   "outputs": [
    {
     "name": "stdout",
     "output_type": "stream",
     "text": [
      "GaussianNB(priors=None)\n",
      "             precision    recall  f1-score   support\n",
      "\n",
      "      False       0.98      1.00      0.99     45983\n",
      "       True       1.00      0.77      0.87      3517\n",
      "\n",
      "avg / total       0.98      0.98      0.98     49500\n",
      "\n",
      "[[45983     0]\n",
      " [  826  2691]]\n"
     ]
    }
   ],
   "source": [
    "clf = GaussianNB()\n",
    "clf.fit(datatrain1, ytrain1)\n",
    "\n",
    "print(clf)\n",
    "# make predictions\n",
    "y_p1 = clf.predict(datatest1)\n",
    "# summarize the fit of the model\n",
    "print(metrics.classification_report(ytest1, y_p1))\n",
    "print(metrics.confusion_matrix(ytest1, y_p1))"
   ]
  },
  {
   "cell_type": "code",
   "execution_count": 212,
   "metadata": {},
   "outputs": [
    {
     "name": "stdout",
     "output_type": "stream",
     "text": [
      "GaussianNB(priors=None)\n",
      "             precision    recall  f1-score   support\n",
      "\n",
      "      False       1.00      1.00      1.00     36000\n",
      "       True       1.00      1.00      1.00      3600\n",
      "\n",
      "avg / total       1.00      1.00      1.00     39600\n",
      "\n",
      "[[36000     0]\n",
      " [    0  3600]]\n"
     ]
    }
   ],
   "source": [
    "clf = GaussianNB()\n",
    "clf.fit(datatrain1, ytrain1)\n",
    "\n",
    "print(clf)\n",
    "# make predictions\n",
    "y_p1 = clf.predict(datatest2)\n",
    "# summarize the fit of the model\n",
    "print(metrics.classification_report(ytest2, y_p1))\n",
    "print(metrics.confusion_matrix(ytest2, y_p1))"
   ]
  },
  {
   "cell_type": "code",
   "execution_count": 215,
   "metadata": {},
   "outputs": [
    {
     "name": "stdout",
     "output_type": "stream",
     "text": [
      "GaussianNB(priors=None)\n",
      "             precision    recall  f1-score   support\n",
      "\n",
      "      False       0.96      1.00      0.98     35892\n",
      "       True       0.99      0.62      0.76      3708\n",
      "\n",
      "avg / total       0.96      0.96      0.96     39600\n",
      "\n",
      "[[35863    29]\n",
      " [ 1425  2283]]\n"
     ]
    }
   ],
   "source": [
    "clf = GaussianNB()\n",
    "clf.fit(datatrain1, ytrain1)\n",
    "\n",
    "print(clf)\n",
    "# make predictions\n",
    "y_p1 = clf.predict(datatest3)\n",
    "# summarize the fit of the model\n",
    "print(metrics.classification_report(ytest3, y_p1))\n",
    "print(metrics.confusion_matrix(ytest3, y_p1))"
   ]
  },
  {
   "cell_type": "code",
   "execution_count": 216,
   "metadata": {},
   "outputs": [
    {
     "name": "stdout",
     "output_type": "stream",
     "text": [
      "GaussianNB(priors=None)\n",
      "             precision    recall  f1-score   support\n",
      "\n",
      "      False       0.97      1.00      0.98     37243\n",
      "       True       0.97      0.13      0.23      1457\n",
      "\n",
      "avg / total       0.97      0.97      0.95     38700\n",
      "\n",
      "[[37238     5]\n",
      " [ 1270   187]]\n"
     ]
    }
   ],
   "source": [
    "clf = GaussianNB()\n",
    "clf.fit(datatrain1, ytrain1)\n",
    "\n",
    "print(clf)\n",
    "# make predictions\n",
    "y_p1 = clf.predict(datatest4)\n",
    "# summarize the fit of the model\n",
    "print(metrics.classification_report(ytest4, y_p1))\n",
    "print(metrics.confusion_matrix(ytest4, y_p1))"
   ]
  },
  {
   "cell_type": "code",
   "execution_count": 220,
   "metadata": {},
   "outputs": [
    {
     "name": "stdout",
     "output_type": "stream",
     "text": [
      "GaussianNB(priors=None)\n",
      "             precision    recall  f1-score   support\n",
      "\n",
      "      False       0.98      1.00      0.99     38750\n",
      "       True       0.00      0.00      0.00       850\n",
      "\n",
      "avg / total       0.96      0.98      0.97     39600\n",
      "\n",
      "[[38750     0]\n",
      " [  850     0]]\n"
     ]
    },
    {
     "name": "stderr",
     "output_type": "stream",
     "text": [
      "/home/ubuntu/anaconda3/lib/python3.6/site-packages/sklearn/metrics/classification.py:1113: UndefinedMetricWarning: Precision and F-score are ill-defined and being set to 0.0 in labels with no predicted samples.\n",
      "  'precision', 'predicted', average, warn_for)\n"
     ]
    }
   ],
   "source": [
    "clf = GaussianNB()\n",
    "clf.fit(datatrain1, ytrain1)\n",
    "\n",
    "print(clf)\n",
    "# make predictions\n",
    "y_p1 = clf.predict(datatest5)\n",
    "# summarize the fit of the model\n",
    "print(metrics.classification_report(ytest5, y_p1))\n",
    "print(metrics.confusion_matrix(ytest5, y_p1))"
   ]
  },
  {
   "cell_type": "code",
   "execution_count": 221,
   "metadata": {},
   "outputs": [
    {
     "name": "stdout",
     "output_type": "stream",
     "text": [
      "GaussianNB(priors=None)\n",
      "             precision    recall  f1-score   support\n",
      "\n",
      "      False       0.99      1.00      1.00     29337\n",
      "       True       0.97      0.32      0.48       343\n",
      "\n",
      "avg / total       0.99      0.99      0.99     29680\n",
      "\n",
      "[[29334     3]\n",
      " [  233   110]]\n"
     ]
    }
   ],
   "source": [
    "clf = GaussianNB()\n",
    "clf.fit(datatrain1, ytrain1)\n",
    "\n",
    "print(clf)\n",
    "# make predictions\n",
    "y_p1 = clf.predict(datatest6)\n",
    "# summarize the fit of the model\n",
    "print(metrics.classification_report(ytest6, y_p1))\n",
    "print(metrics.confusion_matrix(ytest6, y_p1))"
   ]
  },
  {
   "cell_type": "markdown",
   "metadata": {},
   "source": [
    "# Logistic Regression"
   ]
  },
  {
   "cell_type": "code",
   "execution_count": 223,
   "metadata": {},
   "outputs": [
    {
     "name": "stdout",
     "output_type": "stream",
     "text": [
      "0.998121212121\n",
      "             precision    recall  f1-score   support\n",
      "\n",
      "      False       1.00      1.00      1.00     45983\n",
      "       True       0.99      0.99      0.99      3517\n",
      "\n",
      "avg / total       1.00      1.00      1.00     49500\n",
      "\n"
     ]
    }
   ],
   "source": [
    "from sklearn.linear_model import LogisticRegression\n",
    "from sklearn.metrics import accuracy_score\n",
    "from sklearn.metrics import classification_report\n",
    "\n",
    "logistic = LogisticRegression()\n",
    "logistic.fit(datatrain1, ytrain1)\n",
    "y_p1_lr = logistic.predict(datatest1)\n",
    "\n",
    "print (accuracy_score(ytest1, y_p1_lr))\n",
    "print (classification_report(ytest1, y_p1_lr))"
   ]
  },
  {
   "cell_type": "code",
   "execution_count": 224,
   "metadata": {},
   "outputs": [
    {
     "name": "stdout",
     "output_type": "stream",
     "text": [
      "0.845580808081\n",
      "             precision    recall  f1-score   support\n",
      "\n",
      "      False       1.00      0.83      0.91     36000\n",
      "       True       0.37      1.00      0.54      3600\n",
      "\n",
      "avg / total       0.94      0.85      0.87     39600\n",
      "\n"
     ]
    }
   ],
   "source": [
    "logistic = LogisticRegression()\n",
    "logistic.fit(datatrain1, ytrain1)\n",
    "y_p1_lr = logistic.predict(datatest2)\n",
    "\n",
    "print (accuracy_score(ytest2, y_p1_lr))\n",
    "print (classification_report(ytest2, y_p1_lr))"
   ]
  },
  {
   "cell_type": "code",
   "execution_count": null,
   "metadata": {
    "collapsed": true
   },
   "outputs": [],
   "source": [
    "logistic = LogisticRegression()\n",
    "logistic.fit(datatrain1, ytrain1)\n",
    "y_p1_lr = logistic.predict(datatest3)\n",
    "\n",
    "print (accuracy_score(ytest3, y_p1_lr))\n",
    "print (classification_report(ytest3, y_p1_lr))"
   ]
  },
  {
   "cell_type": "code",
   "execution_count": null,
   "metadata": {
    "collapsed": true
   },
   "outputs": [],
   "source": [
    "logistic = LogisticRegression()\n",
    "logistic.fit(datatrain1, ytrain1)\n",
    "y_p1_lr = logistic.predict(datatest4)\n",
    "\n",
    "print (accuracy_score(ytest4, y_p1_lr))\n",
    "print (classification_report(ytest4, y_p1_lr))"
   ]
  },
  {
   "cell_type": "code",
   "execution_count": null,
   "metadata": {
    "collapsed": true
   },
   "outputs": [],
   "source": [
    "logistic = LogisticRegression()\n",
    "logistic.fit(datatrain1, ytrain1)\n",
    "y_p1_lr = logistic.predict(datatest5)\n",
    "\n",
    "print (accuracy_score(ytest2, y_p1_lr))\n",
    "print (classification_report(ytest2, y_p1_lr))"
   ]
  },
  {
   "cell_type": "code",
   "execution_count": null,
   "metadata": {
    "collapsed": true
   },
   "outputs": [],
   "source": [
    "logistic = LogisticRegression()\n",
    "logistic.fit(datatrain1, ytrain1)\n",
    "y_p1_lr = logistic.predict(datatest2)\n",
    "\n",
    "print (accuracy_score(ytest2, y_p1_lr))\n",
    "print (classification_report(ytest2, y_p1_lr))"
   ]
  }
 ],
 "metadata": {
  "celltoolbar": "Raw Cell Format",
  "kernelspec": {
   "display_name": "Python 3",
   "language": "python",
   "name": "python3"
  },
  "language_info": {
   "codemirror_mode": {
    "name": "ipython",
    "version": 3
   },
   "file_extension": ".py",
   "mimetype": "text/x-python",
   "name": "python",
   "nbconvert_exporter": "python",
   "pygments_lexer": "ipython3",
   "version": "3.6.1"
  }
 },
 "nbformat": 4,
 "nbformat_minor": 2
}
