{
 "cells": [
  {
   "cell_type": "markdown",
   "metadata": {},
   "source": [
    "Database connection, importing data and storing in HDFStore"
   ]
  },
  {
   "cell_type": "code",
   "execution_count": 1,
   "metadata": {
    "collapsed": true
   },
   "outputs": [],
   "source": [
    "import mysql.connector as sql\n",
    "import pandas as pd\n",
    "from configparser import ConfigParser\n",
    "from pandas import HDFStore,DataFrame"
   ]
  },
  {
   "cell_type": "code",
   "execution_count": null,
   "metadata": {
    "collapsed": true
   },
   "outputs": [],
   "source": [
    "db_connection = sql.connect(host='104.197.253.225', database='secdb', user='cs572', password='cs572')\n",
    "db_cursor = db_connection.cursor()\n",
    "\n",
    "query = 'SELECT * FROM all_physical'\n",
    "db_cursor.execute(query)\n",
    "table_rows = db_cursor.fetchall()\n",
    "df = pd.DataFrame(table_rows)\n",
    "pdata = pd.read_sql(query, db_connection)\n",
    "db_connection.close()"
   ]
  },
  {
   "cell_type": "code",
   "execution_count": null,
   "metadata": {
    "collapsed": true
   },
   "outputs": [],
   "source": [
    "pdata['Timestamp'] = pdata['Timestamp'].apply(pd.to_datetime)\n",
    "pdata['EVENT'] = pdata['EVENT'].astype('category')"
   ]
  },
  {
   "cell_type": "code",
   "execution_count": null,
   "metadata": {
    "collapsed": true
   },
   "outputs": [],
   "source": [
    "NumFeatures = []\n",
    "for col,x in pdata.iloc[1,:].iteritems():\n",
    "    if(not str(x).isalpha()):\n",
    "        NumFeatures.append(col)\n",
    "pdata[NumFeatures] = pdata[NumFeatures].apply(pd.to_numeric)"
   ]
  },
  {
   "cell_type": "code",
   "execution_count": null,
   "metadata": {
    "collapsed": true
   },
   "outputs": [],
   "source": [
    "pdata['EVENT'] = pdata['EVENT'].str.replace('A ttack', 'Attack')"
   ]
  },
  {
   "cell_type": "code",
   "execution_count": null,
   "metadata": {
    "collapsed": true
   },
   "outputs": [],
   "source": [
    "store = HDFStore('store.h5')\n",
    "store['pdata'] = pdata  # save it\n",
    "store.close()"
   ]
  },
  {
   "cell_type": "markdown",
   "metadata": {},
   "source": [
    "Reading the stored HDF"
   ]
  },
  {
   "cell_type": "code",
   "execution_count": 3,
   "metadata": {
    "collapsed": false
   },
   "outputs": [],
   "source": [
    "store = HDFStore('store.h5')\n",
    "pdata = pd.read_hdf(store)\n",
    "pdata = pdata.sort_values('Timestamp')"
   ]
  },
  {
   "cell_type": "code",
   "execution_count": 4,
   "metadata": {
    "collapsed": false
   },
   "outputs": [
    {
     "data": {
      "text/plain": [
       "(946719, 53)"
      ]
     },
     "execution_count": 4,
     "metadata": {},
     "output_type": "execute_result"
    }
   ],
   "source": [
    "pdata.shape"
   ]
  },
  {
   "cell_type": "code",
   "execution_count": 5,
   "metadata": {
    "collapsed": false
   },
   "outputs": [
    {
     "name": "stdout",
     "output_type": "stream",
     "text": [
      "52 Continuous Features \n",
      " ['Timestamp', 'FIT101', 'LIT101', 'MV101', 'P101', 'P102', 'AIT201', 'AIT202', 'AIT203', 'FIT201', 'MV201', 'P201', 'P202', 'P203', 'P204', 'P205', 'P206', 'DPIT301', 'FIT301', 'LIT301', 'MV301', 'MV302', 'MV303', 'MV304', 'P301', 'P302', 'AIT401', 'AIT402', 'FIT401', 'LIT401', 'P401', 'P402', 'P403', 'P404', 'UV401', 'AIT501', 'AIT502', 'AIT503', 'AIT504', 'FIT501', 'FIT502', 'FIT503', 'FIT504', 'P501', 'P502', 'PIT501', 'PIT502', 'PIT503', 'FIT601', 'P601', 'P602', 'P603']\n",
      "\n",
      " \n",
      "\n",
      "1 Categorical features \n",
      "\n",
      "\n",
      " ['EVENT']\n",
      "\n",
      " \n",
      "\n",
      "51 Upadated List of Continuous Features \n",
      " ['FIT101', 'LIT101', 'MV101', 'P101', 'P102', 'AIT201', 'AIT202', 'AIT203', 'FIT201', 'MV201', 'P201', 'P202', 'P203', 'P204', 'P205', 'P206', 'DPIT301', 'FIT301', 'LIT301', 'MV301', 'MV302', 'MV303', 'MV304', 'P301', 'P302', 'AIT401', 'AIT402', 'FIT401', 'LIT401', 'P401', 'P402', 'P403', 'P404', 'UV401', 'AIT501', 'AIT502', 'AIT503', 'AIT504', 'FIT501', 'FIT502', 'FIT503', 'FIT504', 'P501', 'P502', 'PIT501', 'PIT502', 'PIT503', 'FIT601', 'P601', 'P602', 'P603']\n",
      "\n",
      " \n",
      "\n"
     ]
    }
   ],
   "source": [
    "catFeatures = []\n",
    "NumFeatures = []\n",
    "for col,x in pdata.iloc[1,:].iteritems():\n",
    "    if(not str(x).isalpha()):\n",
    "        NumFeatures.append(col)\n",
    "    else:\n",
    "        catFeatures.append(col)\n",
    "print(len(NumFeatures), \"Continuous Features \\n\", NumFeatures)\n",
    "print(\"\\n \\n\")\n",
    "print(len(catFeatures), \"Categorical features \\n\\n\\n\", catFeatures)\n",
    "\n",
    "\n",
    "NumFeatures.remove(\"Timestamp\")\n",
    "print(\"\\n \\n\")\n",
    "\n",
    "print(len(NumFeatures), \"Upadated List of Continuous Features \\n\", NumFeatures)\n",
    "print(\"\\n \\n\")"
   ]
  },
  {
   "cell_type": "markdown",
   "metadata": {},
   "source": [
    "Loading libraries"
   ]
  },
  {
   "cell_type": "code",
   "execution_count": 6,
   "metadata": {
    "collapsed": true
   },
   "outputs": [],
   "source": [
    "import numpy as np \n",
    "import matplotlib.pyplot as plt\n",
    "import seaborn as sns\n",
    "color = sns.color_palette()\n",
    "%matplotlib inline\n",
    "pd.options.mode.chained_assignment = None"
   ]
  },
  {
   "cell_type": "code",
   "execution_count": 7,
   "metadata": {
    "collapsed": true
   },
   "outputs": [],
   "source": [
    "bool_cols = [col for col in pdata \n",
    "             if pdata[[col]].dropna().isin([0, 1]).all().values]"
   ]
  },
  {
   "cell_type": "code",
   "execution_count": 8,
   "metadata": {
    "collapsed": false
   },
   "outputs": [
    {
     "data": {
      "text/html": [
       "<div>\n",
       "<table border=\"1\" class=\"dataframe\">\n",
       "  <thead>\n",
       "    <tr style=\"text-align: right;\">\n",
       "      <th></th>\n",
       "      <th>P202</th>\n",
       "      <th>P401</th>\n",
       "      <th>P404</th>\n",
       "      <th>P502</th>\n",
       "      <th>P601</th>\n",
       "      <th>P603</th>\n",
       "    </tr>\n",
       "  </thead>\n",
       "  <tbody>\n",
       "    <tr>\n",
       "      <th>count</th>\n",
       "      <td>946719.0</td>\n",
       "      <td>946719.0</td>\n",
       "      <td>946719.0</td>\n",
       "      <td>946719.0</td>\n",
       "      <td>946719.0</td>\n",
       "      <td>946719.0</td>\n",
       "    </tr>\n",
       "    <tr>\n",
       "      <th>mean</th>\n",
       "      <td>1.0</td>\n",
       "      <td>1.0</td>\n",
       "      <td>1.0</td>\n",
       "      <td>1.0</td>\n",
       "      <td>1.0</td>\n",
       "      <td>1.0</td>\n",
       "    </tr>\n",
       "    <tr>\n",
       "      <th>std</th>\n",
       "      <td>0.0</td>\n",
       "      <td>0.0</td>\n",
       "      <td>0.0</td>\n",
       "      <td>0.0</td>\n",
       "      <td>0.0</td>\n",
       "      <td>0.0</td>\n",
       "    </tr>\n",
       "    <tr>\n",
       "      <th>min</th>\n",
       "      <td>1.0</td>\n",
       "      <td>1.0</td>\n",
       "      <td>1.0</td>\n",
       "      <td>1.0</td>\n",
       "      <td>1.0</td>\n",
       "      <td>1.0</td>\n",
       "    </tr>\n",
       "    <tr>\n",
       "      <th>25%</th>\n",
       "      <td>1.0</td>\n",
       "      <td>1.0</td>\n",
       "      <td>1.0</td>\n",
       "      <td>1.0</td>\n",
       "      <td>1.0</td>\n",
       "      <td>1.0</td>\n",
       "    </tr>\n",
       "    <tr>\n",
       "      <th>50%</th>\n",
       "      <td>1.0</td>\n",
       "      <td>1.0</td>\n",
       "      <td>1.0</td>\n",
       "      <td>1.0</td>\n",
       "      <td>1.0</td>\n",
       "      <td>1.0</td>\n",
       "    </tr>\n",
       "    <tr>\n",
       "      <th>75%</th>\n",
       "      <td>1.0</td>\n",
       "      <td>1.0</td>\n",
       "      <td>1.0</td>\n",
       "      <td>1.0</td>\n",
       "      <td>1.0</td>\n",
       "      <td>1.0</td>\n",
       "    </tr>\n",
       "    <tr>\n",
       "      <th>max</th>\n",
       "      <td>1.0</td>\n",
       "      <td>1.0</td>\n",
       "      <td>1.0</td>\n",
       "      <td>1.0</td>\n",
       "      <td>1.0</td>\n",
       "      <td>1.0</td>\n",
       "    </tr>\n",
       "  </tbody>\n",
       "</table>\n",
       "</div>"
      ],
      "text/plain": [
       "           P202      P401      P404      P502      P601      P603\n",
       "count  946719.0  946719.0  946719.0  946719.0  946719.0  946719.0\n",
       "mean        1.0       1.0       1.0       1.0       1.0       1.0\n",
       "std         0.0       0.0       0.0       0.0       0.0       0.0\n",
       "min         1.0       1.0       1.0       1.0       1.0       1.0\n",
       "25%         1.0       1.0       1.0       1.0       1.0       1.0\n",
       "50%         1.0       1.0       1.0       1.0       1.0       1.0\n",
       "75%         1.0       1.0       1.0       1.0       1.0       1.0\n",
       "max         1.0       1.0       1.0       1.0       1.0       1.0"
      ]
     },
     "execution_count": 8,
     "metadata": {},
     "output_type": "execute_result"
    }
   ],
   "source": [
    "pdata[bool_cols].describe()"
   ]
  },
  {
   "cell_type": "code",
   "execution_count": 9,
   "metadata": {
    "collapsed": true
   },
   "outputs": [],
   "source": [
    "pdata.drop(bool_cols, axis = 1, inplace = True)"
   ]
  },
  {
   "cell_type": "code",
   "execution_count": 10,
   "metadata": {
    "collapsed": false
   },
   "outputs": [
    {
     "data": {
      "text/plain": [
       "53"
      ]
     },
     "execution_count": 10,
     "metadata": {},
     "output_type": "execute_result"
    }
   ],
   "source": [
    "catFeatures = []\n",
    "NumFeatures = []\n",
    "for col,x in pdata.iloc[1,:].iteritems():\n",
    "    if(not str(x).isalpha()):\n",
    "        NumFeatures.append(col)\n",
    "    else:\n",
    "        catFeatures.append(col)\n",
    "for col in pdata:\n",
    "    if(pdata[[col]].dropna().isin([1, 2]).all().values):\n",
    "        catFeatures.append(col)\n",
    "        pdata[col].astype('category')\n",
    "NumFeatures = [x for x in NumFeatures if x not in catFeatures ]\n",
    "len(NumFeatures) + len(catFeatures) + len(bool_cols)"
   ]
  },
  {
   "cell_type": "markdown",
   "metadata": {},
   "source": [
    "Loading libraries for PCA"
   ]
  },
  {
   "cell_type": "code",
   "execution_count": 11,
   "metadata": {
    "collapsed": true
   },
   "outputs": [],
   "source": [
    "from sklearn.decomposition import PCA\n",
    "import matplotlib.pyplot as plt\n",
    "from sklearn.preprocessing import scale\n",
    "%matplotlib inline"
   ]
  },
  {
   "cell_type": "markdown",
   "metadata": {},
   "source": [
    "PCA for only Numeric Variables"
   ]
  },
  {
   "cell_type": "code",
   "execution_count": 12,
   "metadata": {
    "collapsed": false
   },
   "outputs": [
    {
     "data": {
      "text/plain": [
       "PCA(copy=True, iterated_power='auto', n_components=31, random_state=None,\n",
       "  svd_solver='auto', tol=0.0, whiten=False)"
      ]
     },
     "execution_count": 12,
     "metadata": {},
     "output_type": "execute_result"
    }
   ],
   "source": [
    "X = scale(pdata[NumFeatures[1:]])\n",
    "pca = PCA(n_components=31)\n",
    "pca.fit(X)"
   ]
  },
  {
   "cell_type": "code",
   "execution_count": 13,
   "metadata": {
    "collapsed": false
   },
   "outputs": [
    {
     "name": "stdout",
     "output_type": "stream",
     "text": [
      "[ 37.45  48.8   58.16  66.37  72.77  77.94  81.95  85.25  88.1   90.14\n",
      "  91.73  93.26  94.58  95.7   96.55  97.38  98.08  98.65  99.01  99.24\n",
      "  99.44  99.57  99.68  99.78  99.86  99.93  99.98 100.   100.   100.   100.  ]\n"
     ]
    }
   ],
   "source": [
    "var = pca.explained_variance_ratio_\n",
    "var1=np.cumsum(np.round(var, decimals=4)*100)\n",
    "print(var1)"
   ]
  },
  {
   "cell_type": "code",
   "execution_count": 14,
   "metadata": {
    "collapsed": false
   },
   "outputs": [
    {
     "data": {
      "text/plain": [
       "[<matplotlib.lines.Line2D at 0x20f00881898>]"
      ]
     },
     "execution_count": 14,
     "metadata": {},
     "output_type": "execute_result"
    },
    {
     "data": {
      "image/png": "[encoded data removed]",
      "text/plain": [
       "<matplotlib.figure.Figure at 0x20f61a3eeb8>"
      ]
     },
     "metadata": {},
     "output_type": "display_data"
    }
   ],
   "source": [
    "plt.plot(var1)"
   ]
  },
  {
   "cell_type": "markdown",
   "metadata": {},
   "source": [
    "PCA for numeric features and categorical features that change valueX_cat = pd.get_dummies(pdata , columns=catFeatures[1:])"
   ]
  },
  {
   "cell_type": "code",
   "execution_count": 15,
   "metadata": {
    "collapsed": true
   },
   "outputs": [],
   "source": [
    "X_cat = pd.get_dummies(pdata , columns=catFeatures[1:])"
   ]
  },
  {
   "cell_type": "code",
   "execution_count": 18,
   "metadata": {
    "collapsed": false
   },
   "outputs": [],
   "source": [
    "dummies = ['P101_1', 'P101_2','P102_1', 'P102_2', 'P201_1', 'P201_2', 'P203_1', 'P203_2', 'P204_1',\n",
    "'P204_2', 'P205_1', 'P205_2', 'P206_1', 'P206_2', 'P301_1', 'P301_2', 'P302_1', 'P302_2', 'P402_1', 'P402_2', 'P403_1', 'P403_2', 'UV401_1',\n",
    "'UV401_2', 'P501_1', 'P501_2', 'P602_1', 'P602_2']"
   ]
  },
  {
   "cell_type": "code",
   "execution_count": 19,
   "metadata": {
    "collapsed": true
   },
   "outputs": [],
   "source": [
    "X = X_cat[NumFeatures[1:] + dummies]"
   ]
  },
  {
   "cell_type": "code",
   "execution_count": 21,
   "metadata": {
    "collapsed": false
   },
   "outputs": [
    {
     "data": {
      "text/plain": [
       "PCA(copy=True, iterated_power='auto', n_components=59, random_state=None,\n",
       "  svd_solver='auto', tol=0.0, whiten=False)"
      ]
     },
     "execution_count": 21,
     "metadata": {},
     "output_type": "execute_result"
    }
   ],
   "source": [
    "X[NumFeatures[1:]]= scale(X[NumFeatures[1:]])\n",
    "pca_wobool = PCA(n_components=59)\n",
    "pca_wobool.fit(X)"
   ]
  },
  {
   "cell_type": "code",
   "execution_count": 23,
   "metadata": {
    "collapsed": false
   },
   "outputs": [
    {
     "name": "stdout",
     "output_type": "stream",
     "text": [
      "[  36.99   49.58   58.63   66.93   73.03   78.09   81.93   85.33   88.18\n",
      "   90.17   91.68   93.13   94.4    95.48   96.29   97.08   97.75   98.31\n",
      "   98.65   98.88   99.1    99.3    99.44   99.54   99.63   99.72   99.79\n",
      "   99.85   99.89   99.92   99.94   99.96   99.97   99.98   99.99  100.\n",
      "  100.01  100.01  100.01  100.01  100.01  100.01  100.01  100.01  100.01\n",
      "  100.01  100.01  100.01  100.01  100.01  100.01  100.01  100.01  100.01\n",
      "  100.01  100.01  100.01  100.01  100.01]\n"
     ]
    }
   ],
   "source": [
    "var_wobool = pca_wobool.explained_variance_ratio_\n",
    "var1_wobool = np.cumsum(np.round(var_wobool, decimals=4)*100)\n",
    "print(var1_wobool)"
   ]
  },
  {
   "cell_type": "code",
   "execution_count": 24,
   "metadata": {
    "collapsed": false
   },
   "outputs": [
    {
     "data": {
      "text/plain": [
       "[<matplotlib.lines.Line2D at 0x20f80113f60>]"
      ]
     },
     "execution_count": 24,
     "metadata": {},
     "output_type": "execute_result"
    },
    {
     "data": {
      "image/png": "[encoded data removed]",
      "text/plain": [
       "<matplotlib.figure.Figure at 0x20f0094b128>"
      ]
     },
     "metadata": {},
     "output_type": "display_data"
    }
   ],
   "source": [
    "plt.plot(var1_wobool)"
   ]
  },
  {
   "cell_type": "markdown",
   "metadata": {},
   "source": [
    "PCA for all variables"
   ]
  },
  {
   "cell_type": "code",
   "execution_count": 25,
   "metadata": {
    "collapsed": true
   },
   "outputs": [],
   "source": [
    "pdata = pd.read_hdf(store)\n",
    "pdata = pdata.sort_values('Timestamp')"
   ]
  },
  {
   "cell_type": "code",
   "execution_count": 26,
   "metadata": {
    "collapsed": true
   },
   "outputs": [],
   "source": [
    "catFeatures = []\n",
    "NumFeatures = []\n",
    "for col,x in pdata.iloc[1,:].iteritems():\n",
    "    if(not str(x).isalpha()):\n",
    "        NumFeatures.append(col)\n",
    "    else:\n",
    "        catFeatures.append(col)\n",
    "for col in pdata:\n",
    "    if(pdata[[col]].dropna().isin([1, 2]).all().values):\n",
    "        catFeatures.append(col)\n",
    "        pdata[col].astype('category')\n",
    "NumFeatures = [x for x in NumFeatures if x not in catFeatures ]"
   ]
  },
  {
   "cell_type": "code",
   "execution_count": 29,
   "metadata": {
    "collapsed": false
   },
   "outputs": [],
   "source": [
    "X_cat_wbool = pd.get_dummies(pdata , columns=catFeatures[1:])"
   ]
  },
  {
   "cell_type": "code",
   "execution_count": 35,
   "metadata": {
    "collapsed": true
   },
   "outputs": [],
   "source": [
    "dummies = ['P101_1', 'P101_2',\n",
    "       'P102_1', 'P102_2', 'P201_1', 'P201_2', 'P202_1', 'P203_1', 'P203_2',\n",
    "       'P204_1', 'P204_2', 'P205_1', 'P205_2', 'P206_1', 'P206_2', 'P301_1',\n",
    "       'P301_2', 'P302_1', 'P302_2', 'P401_1', 'P402_1', 'P402_2', 'P403_1',\n",
    "       'P403_2', 'P404_1', 'UV401_1', 'UV401_2', 'P501_1', 'P501_2', 'P502_1',\n",
    "       'P601_1', 'P602_1', 'P602_2', 'P603_1']"
   ]
  },
  {
   "cell_type": "code",
   "execution_count": 37,
   "metadata": {
    "collapsed": false
   },
   "outputs": [],
   "source": [
    "X = X_cat_wbool[NumFeatures[1:] + dummies]"
   ]
  },
  {
   "cell_type": "code",
   "execution_count": 39,
   "metadata": {
    "collapsed": false
   },
   "outputs": [
    {
     "data": {
      "text/plain": [
       "PCA(copy=True, iterated_power='auto', n_components=59, random_state=None,\n",
       "  svd_solver='full', tol=0.0, whiten=False)"
      ]
     },
     "execution_count": 39,
     "metadata": {},
     "output_type": "execute_result"
    }
   ],
   "source": [
    "X_cat_wbool[NumFeatures[1:]] = scale(X_cat_wbool[NumFeatures[1:]])\n",
    "pca_wbool = PCA(n_components=59, svd_solver='full')\n",
    "pca_wbool.fit(X)"
   ]
  },
  {
   "cell_type": "code",
   "execution_count": 42,
   "metadata": {
    "collapsed": false
   },
   "outputs": [
    {
     "name": "stdout",
     "output_type": "stream",
     "text": [
      "[  36.99   49.58   58.63   66.93   73.03   78.09   81.93   85.33   88.18\n",
      "   90.17   91.68   93.13   94.4    95.48   96.29   97.08   97.75   98.31\n",
      "   98.65   98.88   99.1    99.3    99.44   99.54   99.63   99.72   99.79\n",
      "   99.85   99.89   99.92   99.94   99.96   99.97   99.98   99.99  100.\n",
      "  100.01  100.01  100.01  100.01  100.01  100.01  100.01  100.01  100.01\n",
      "  100.01  100.01  100.01  100.01  100.01  100.01  100.01  100.01  100.01\n",
      "  100.01  100.01  100.01  100.01  100.01]\n"
     ]
    }
   ],
   "source": [
    "var_wbool = pca_wbool.explained_variance_ratio_\n",
    "var1_wbool=np.cumsum(np.round(var_wbool, decimals=4)*100)\n",
    "print(var1_wbool)"
   ]
  },
  {
   "cell_type": "code",
   "execution_count": 43,
   "metadata": {
    "collapsed": false
   },
   "outputs": [
    {
     "data": {
      "text/plain": [
       "[<matplotlib.lines.Line2D at 0x20f00ab5978>]"
      ]
     },
     "execution_count": 43,
     "metadata": {},
     "output_type": "execute_result"
    },
    {
     "data": {
      "image/png": "[encoded data removed]",
      "text/plain": [
       "<matplotlib.figure.Figure at 0x20f009999e8>"
      ]
     },
     "metadata": {},
     "output_type": "display_data"
    }
   ],
   "source": [
    "plt.plot(var1_wbool)"
   ]
  },
  {
   "cell_type": "code",
   "execution_count": null,
   "metadata": {
    "collapsed": true
   },
   "outputs": [],
   "source": []
  }
 ],
 "metadata": {
  "kernelspec": {
   "display_name": "Python 3",
   "language": "python",
   "name": "python3"
  },
  "language_info": {
   "codemirror_mode": {
    "name": "ipython",
    "version": 3
   },
   "file_extension": ".py",
   "mimetype": "text/x-python",
   "name": "python",
   "nbconvert_exporter": "python",
   "pygments_lexer": "ipython3",
   "version": "3.6.0"
  }
 },
 "nbformat": 4,
 "nbformat_minor": 2
}
